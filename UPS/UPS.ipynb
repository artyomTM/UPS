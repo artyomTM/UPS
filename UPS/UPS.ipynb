{
 "cells": [
  {
   "cell_type": "markdown",
   "metadata": {},
   "source": [
    "# Решатель и консольный калькулятор.\n",
    "### Возможности:\n",
    "- Консольный калькулятор CALC.\n",
    "    - Решает выражения и выполняет некоторые python-команды.\n",
    "    - Результат предыдущего действия сохраняется в переменной ans.\n",
    "    - Дла выхода введите \"exit\".\n",
    "- Решатель элементарных задач по информатике INFEX.\n",
    "- #### В разработке: ####\n",
    "    - Запись ans и M в файл.\n",
    "    - Решатель элементарных математических задач MEX.\n",
    "    - Работа с графиками GEX.\n",
    "    - Обработчик данных из csv CSVEX.\n",
    "    - Решение некоторых задач линейной алгебры LAEX.\n",
    "    - Решение некоторых задач высшей математики MEXCAS.\n",
    "    - Решение некоторых задач физики FEXCFS.\n",
    "    - Консоль ALLEX.\n",
    "    - Возможность вызова любой функции из любого места для любой задачи.\n",
    "    - Возможность настройки под себя.\n",
    "    - Переписывание некоторых модулей на компилируемый язык программирования.\n",
    "    - Лицензия.\n",
    "    - Ссылка для тех, кто хочет материально поддержать автора.\n",
    "    - Английская версия.\n",
    "##### Перед работой обязательно запустите код из раздела \"Глобальные штучки\"!!!\n",
    "- ###### Авторы: ######\n",
    "    - Идея: Сверчков П.Н.\n",
    "    - Разработка: Трущук А.М."
   ]
  },
  {
   "cell_type": "markdown",
   "metadata": {},
   "source": [
    "## Глобальные штучки"
   ]
  },
  {
   "cell_type": "code",
   "execution_count": 1,
   "metadata": {},
   "outputs": [],
   "source": [
    "#GLOBAL CONSTANTS AND FUNCTIONS\n",
    "from math import *\n",
    "import CALC"
   ]
  },
  {
   "cell_type": "markdown",
   "metadata": {},
   "source": [
    "## Консольный калькулятор CALC"
   ]
  },
  {
   "cell_type": "code",
   "execution_count": 2,
   "metadata": {},
   "outputs": [
    {
     "name": "stdout",
     "output_type": "stream",
     "text": [
      "CALC>>>sin(0)\n",
      "0.0\n",
      "CALC>>>exit\n"
     ]
    }
   ],
   "source": [
    "#RUN THIS CODE FOR CALC\n",
    "CALC.calc()"
   ]
  },
  {
   "cell_type": "markdown",
   "metadata": {},
   "source": [
    "## Решатель задач по информатике INFEX"
   ]
  },
  {
   "cell_type": "code",
   "execution_count": 4,
   "metadata": {},
   "outputs": [
    {
     "name": "stdout",
     "output_type": "stream",
     "text": [
      "I want to:\n",
      "\t0-exit\n",
      "\t1-image\n",
      "\t2-text\n",
      "\t3-audio\n",
      "\t4-calc\n",
      ">>>0\n"
     ]
    }
   ],
   "source": [
    "#RUN THIS CODE FOR INFEX\n",
    "import INFEX\n",
    "INFEX.InfEx()"
   ]
  },
  {
   "cell_type": "code",
   "execution_count": null,
   "metadata": {},
   "outputs": [],
   "source": []
  }
 ],
 "metadata": {
  "kernelspec": {
   "display_name": "Python 3 (ipykernel)",
   "language": "python",
   "name": "python3"
  },
  "language_info": {
   "codemirror_mode": {
    "name": "ipython",
    "version": 3
   },
   "file_extension": ".py",
   "mimetype": "text/x-python",
   "name": "python",
   "nbconvert_exporter": "python",
   "pygments_lexer": "ipython3",
   "version": "3.8.10"
  }
 },
 "nbformat": 4,
 "nbformat_minor": 4
}
